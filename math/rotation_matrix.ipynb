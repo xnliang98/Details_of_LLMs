{
 "cells": [
  {
   "cell_type": "markdown",
   "id": "630da66b-20ed-4880-97ef-de9eb31402b2",
   "metadata": {},
   "source": [
    "# 旋转矩阵\n",
    "\n",
    "[[矩阵分析] 旋转矩阵的计算机与应用（复平面，RoPE)](https://www.bilibili.com/video/BV1pw411D7nP/?spm_id_from=333.788&vd_source=b843d04bfd7e977261b41de336930b9f)\n",
    "\n"
   ]
  },
  {
   "cell_type": "markdown",
   "id": "8ed5b2e5-723a-46c9-896e-60aceb2a8aaf",
   "metadata": {},
   "source": [
    "$$\n",
    "R(\\theta) = \\begin{bmatrix}\n",
    "\\cos\\theta & - \\sin\\theta \\\\\n",
    "\\sin\\theta & \\cos\\theta \n",
    "\\end{bmatrix}\n",
    "$$\n",
    "\n",
    "$$\n",
    "\\begin{aligned}\n",
    "R(\\alpha)\\cdot R(\\beta) & = \\begin{bmatrix}\n",
    "\\cos\\alpha & - \\sin\\alpha \\\\\n",
    "\\sin\\alpha & \\cos\\alpha \n",
    "\\end{bmatrix} \\cdot \\begin{bmatrix}\n",
    "\\cos\\beta & - \\sin\\beta \\\\\n",
    "\\sin\\beta & \\cos\\beta \n",
    "\\end{bmatrix}\\\\\n",
    "&= \\begin{bmatrix}\n",
    "\\cos\\alpha \\cos\\beta-\\sin\\alpha\\sin\\beta & - \\cos\\alpha\\sin\\beta -\\sin\\alpha\\cos\\beta \\\\\n",
    "\\sin\\alpha\\cos\\beta + \\cos\\alpha\\sin\\beta & \\cos\\alpha\\cos\\beta - \\sin\\beta\\sin\\alpha \n",
    "\\end{bmatrix}\n",
    " \\\\\n",
    "& = \\begin{bmatrix}\n",
    "\\cos(\\alpha+\\beta) & -\\sin(\\alpha+\\beta) \\\\\n",
    "\\sin(\\alpha+\\beta) & \\cos(\\alpha+\\beta)\n",
    "\\end{bmatrix}\n",
    "\\end{aligned}\n",
    "$$\n",
    "\n",
    "- $||R(\\theta)|| = 1$， 行列式为1\n",
    "- 乘以一个向量\n",
    "    - 只改变向量的角度，不改变模长\n",
    "    - 逆时针旋转"
   ]
  },
  {
   "cell_type": "code",
   "execution_count": 1,
   "id": "3b703d18-1b13-49e8-b2c3-b48f7a158008",
   "metadata": {
    "tags": []
   },
   "outputs": [],
   "source": [
    "import numpy as np"
   ]
  },
  {
   "cell_type": "code",
   "execution_count": 2,
   "id": "ca5417cb-4d11-4dd2-b93b-98b931fb2daf",
   "metadata": {
    "tags": []
   },
   "outputs": [],
   "source": [
    "def rot_matrix(theta):\n",
    "    return np.asarray([[np.cos(theta), -np.sin(theta)], \n",
    "                       [np.sin(theta), np.cos(theta)]])"
   ]
  },
  {
   "cell_type": "code",
   "execution_count": 3,
   "id": "fc236d50-3c5b-4c40-9d12-adc524b39f03",
   "metadata": {
    "tags": []
   },
   "outputs": [
    {
     "name": "stdout",
     "output_type": "stream",
     "text": [
      "[[ 0.99500417 -0.09983342]\n",
      " [ 0.09983342  0.99500417]]\n"
     ]
    }
   ],
   "source": [
    "print(rot_matrix(0.1))"
   ]
  },
  {
   "cell_type": "code",
   "execution_count": 4,
   "id": "930f547f-c028-4b24-bf23-bedc479fd59d",
   "metadata": {
    "tags": []
   },
   "outputs": [],
   "source": [
    "x = np.asarray([1, 0])"
   ]
  },
  {
   "cell_type": "code",
   "execution_count": 6,
   "id": "3f1b3ded-fb63-4ba6-a849-5afa698265c6",
   "metadata": {
    "tags": []
   },
   "outputs": [],
   "source": [
    "R1 = rot_matrix(np.pi/6) # 180/6 = 30度"
   ]
  },
  {
   "cell_type": "code",
   "execution_count": 12,
   "id": "2e20f063-29ec-4da5-b26e-7239601dbe84",
   "metadata": {
    "tags": []
   },
   "outputs": [
    {
     "data": {
      "text/plain": [
       "(array([0.8660254, 0.5      ]), 1.0)"
      ]
     },
     "execution_count": 12,
     "metadata": {},
     "output_type": "execute_result"
    }
   ],
   "source": [
    "x_prime = R1.dot(x)\n",
    "x_prime, np.linalg.norm(x_prime) # 模长没有改变"
   ]
  },
  {
   "cell_type": "code",
   "execution_count": 8,
   "id": "1df78f36-00ad-4064-9929-631d6cae6bee",
   "metadata": {
    "tags": []
   },
   "outputs": [],
   "source": [
    "import matplotlib.pyplot as plt"
   ]
  },
  {
   "cell_type": "code",
   "execution_count": 11,
   "id": "890595b4-1f0e-41ed-8c58-5fa31bd2b095",
   "metadata": {
    "tags": []
   },
   "outputs": [
    {
     "data": {
      "text/plain": [
       "(-0.5, 1.5)"
      ]
     },
     "execution_count": 11,
     "metadata": {},
     "output_type": "execute_result"
    },
    {
     "data": {
      "image/png": "[encoded data removed]",
      "text/plain": [
       "<Figure size 640x480 with 1 Axes>"
      ]
     },
     "metadata": {},
     "output_type": "display_data"
    }
   ],
   "source": [
    "plt.quiver([0, 0], [0, 0], [x[0], x_prime[0]], [x[1], x_prime[1]], \n",
    "          angles=\"xy\", scale_units=\"xy\", scale=1, color= ['g', 'r']) \n",
    "plt.xlim(-0.5, 1.5)\n",
    "plt.ylim(-0.5, 1.5)"
   ]
  },
  {
   "cell_type": "code",
   "execution_count": 13,
   "id": "10f9eb66-e6be-459c-acbd-301075e26903",
   "metadata": {
    "tags": []
   },
   "outputs": [
    {
     "data": {
      "text/plain": [
       "0.8660254037844387"
      ]
     },
     "execution_count": 13,
     "metadata": {},
     "output_type": "execute_result"
    }
   ],
   "source": [
    "# 向量夹角计算 cos theta = a*b / |a||b|\n",
    "x_prime.dot(x)"
   ]
  },
  {
   "cell_type": "code",
   "execution_count": 16,
   "id": "5118e0ce-687c-4222-9290-b88d29e1ca2d",
   "metadata": {
    "tags": []
   },
   "outputs": [
    {
     "data": {
      "text/plain": [
       "True"
      ]
     },
     "execution_count": 16,
     "metadata": {},
     "output_type": "execute_result"
    }
   ],
   "source": [
    "np.cos(np.pi/6) == x_prime.dot(x)"
   ]
  },
  {
   "cell_type": "code",
   "execution_count": 17,
   "id": "03426cf3-25de-4912-b1a9-a2065e628c8d",
   "metadata": {
    "tags": []
   },
   "outputs": [
    {
     "data": {
      "text/plain": [
       "array([0.5      , 0.8660254])"
      ]
     },
     "execution_count": 17,
     "metadata": {},
     "output_type": "execute_result"
    }
   ],
   "source": [
    "# 连乘\n",
    "R2 = rot_matrix(np.pi/6)\n",
    "x_prime2 = R2.dot(R1).dot(x)\n",
    "x_prime2"
   ]
  },
  {
   "cell_type": "code",
   "execution_count": 18,
   "id": "9eb2936d-ebdb-4ae1-a67d-760797eb5c01",
   "metadata": {
    "tags": []
   },
   "outputs": [
    {
     "data": {
      "text/plain": [
       "1.0"
      ]
     },
     "execution_count": 18,
     "metadata": {},
     "output_type": "execute_result"
    }
   ],
   "source": [
    "np.linalg.norm(x_prime2)"
   ]
  },
  {
   "cell_type": "code",
   "execution_count": 19,
   "id": "407174e1-5409-479e-b934-84e93dbfc7cc",
   "metadata": {
    "tags": []
   },
   "outputs": [
    {
     "data": {
      "text/plain": [
       "0.5000000000000001"
      ]
     },
     "execution_count": 19,
     "metadata": {},
     "output_type": "execute_result"
    }
   ],
   "source": [
    "x_prime2.dot(x)"
   ]
  },
  {
   "cell_type": "code",
   "execution_count": 20,
   "id": "9b0ee9c7-011f-43ef-af52-fee4204e4123",
   "metadata": {
    "tags": []
   },
   "outputs": [
    {
     "data": {
      "text/plain": [
       "True"
      ]
     },
     "execution_count": 20,
     "metadata": {},
     "output_type": "execute_result"
    }
   ],
   "source": [
    "np.cos(np.pi/3) == x_prime2.dot(x)"
   ]
  },
  {
   "cell_type": "code",
   "execution_count": 21,
   "id": "62deacb6-bb89-41a7-85bc-f54a429a9d15",
   "metadata": {
    "tags": []
   },
   "outputs": [
    {
     "data": {
      "text/plain": [
       "(-0.5, 1.5)"
      ]
     },
     "execution_count": 21,
     "metadata": {},
     "output_type": "execute_result"
    },
    {
     "data": {
      "image/png": "[encoded data removed]",
      "text/plain": [
       "<Figure size 640x480 with 1 Axes>"
      ]
     },
     "metadata": {},
     "output_type": "display_data"
    }
   ],
   "source": [
    "plt.quiver([0, 0, 0], [0, 0, 0], [x[0], x_prime[0], x_prime2[0]], [x[1], x_prime[1], x_prime2[1]], \n",
    "          angles=\"xy\", scale_units=\"xy\", scale=1, color= ['g', 'r', 'b']) \n",
    "plt.xlim(-0.5, 1.5)\n",
    "plt.ylim(-0.5, 1.5)"
   ]
  },
  {
   "cell_type": "markdown",
   "id": "c070b035-7e44-4ced-ac07-71b0f4a54b0d",
   "metadata": {},
   "source": [
    "## 复平面 complex plane\n",
    "\n",
    "- $z=a+ib$\n",
    "    - $r=1,a = \\cos\\theta, b=\\sin\\theta$\n",
    "    - $z = \\cos\\theta + i\\sin\\theta$"
   ]
  },
  {
   "cell_type": "code",
   "execution_count": 22,
   "id": "bf0a32c0-ef35-4b4e-8cdf-e0b6b92a2f6f",
   "metadata": {
    "tags": []
   },
   "outputs": [
    {
     "data": {
      "text/plain": [
       "array([1, 0])"
      ]
     },
     "execution_count": 22,
     "metadata": {},
     "output_type": "execute_result"
    }
   ],
   "source": [
    "rot = np.cos(np.pi/6) + 1j*np.sin(np.pi/6)\n",
    "x "
   ]
  },
  {
   "cell_type": "code",
   "execution_count": 23,
   "id": "195fc9ec-4b61-4b58-b445-29816b6999f3",
   "metadata": {
    "tags": []
   },
   "outputs": [
    {
     "data": {
      "text/plain": [
       "(0.8660254037844387+0.49999999999999994j)"
      ]
     },
     "execution_count": 23,
     "metadata": {},
     "output_type": "execute_result"
    }
   ],
   "source": [
    "rot"
   ]
  },
  {
   "cell_type": "code",
   "execution_count": 26,
   "id": "646badad-1ead-4a09-b0b1-ac42e8cad252",
   "metadata": {
    "tags": []
   },
   "outputs": [
    {
     "data": {
      "text/plain": [
       "0.8660254037844387"
      ]
     },
     "execution_count": 26,
     "metadata": {},
     "output_type": "execute_result"
    }
   ],
   "source": [
    "np.real(rot * (x[0]+1j*x[1])) # 30°"
   ]
  },
  {
   "cell_type": "code",
   "execution_count": 27,
   "id": "d04893da-7232-4c76-84fa-65e8cd9b63d6",
   "metadata": {
    "tags": []
   },
   "outputs": [
    {
     "data": {
      "text/plain": [
       "0.49999999999999994"
      ]
     },
     "execution_count": 27,
     "metadata": {},
     "output_type": "execute_result"
    }
   ],
   "source": [
    "np.imag(rot * (x[0]+1j*x[1]))"
   ]
  },
  {
   "cell_type": "code",
   "execution_count": 28,
   "id": "039609ea-2b9e-44a6-bc2d-b33f048f83e5",
   "metadata": {
    "tags": []
   },
   "outputs": [
    {
     "data": {
      "text/plain": [
       "0.5000000000000002"
      ]
     },
     "execution_count": 28,
     "metadata": {},
     "output_type": "execute_result"
    }
   ],
   "source": [
    "rot *= rot\n",
    "np.real(rot * (x[0]+1j*x[1])) # 60"
   ]
  },
  {
   "cell_type": "code",
   "execution_count": null,
   "id": "64ceda4b-e75b-47e7-91bc-64f7b357cf42",
   "metadata": {},
   "outputs": [],
   "source": []
  }
 ],
 "metadata": {
  "kernelspec": {
   "display_name": "Python 3 (ipykernel)",
   "language": "python",
   "name": "python3"
  },
  "language_info": {
   "codemirror_mode": {
    "name": "ipython",
    "version": 3
   },
   "file_extension": ".py",
   "mimetype": "text/x-python",
   "name": "python",
   "nbconvert_exporter": "python",
   "pygments_lexer": "ipython3",
   "version": "3.10.9"
  }
 },
 "nbformat": 4,
 "nbformat_minor": 5
}
