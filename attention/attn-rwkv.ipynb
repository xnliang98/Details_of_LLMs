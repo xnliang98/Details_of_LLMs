{
 "cells": [
  {
   "cell_type": "markdown",
   "id": "1e246917-ef8f-4df9-9856-08a5d3df8364",
   "metadata": {},
   "source": [
    "[霍华德-解密RWKV线性注意力的进化过程](https://www.bilibili.com/video/BV1zW4y1D7Qg/?spm_id_from=333.999.0.0&vd_source=b843d04bfd7e977261b41de336930b9f)"
   ]
  },
  {
   "cell_type": "code",
   "execution_count": 1,
   "id": "bc5f182c-6c12-458e-913f-33e9d7b8efdd",
   "metadata": {
    "tags": []
   },
   "outputs": [],
   "source": [
    "import torch"
   ]
  },
  {
   "cell_type": "code",
   "execution_count": 10,
   "id": "9ae64a50-caaf-44da-a486-707cff4aec11",
   "metadata": {
    "tags": []
   },
   "outputs": [],
   "source": [
    "T, D = 4, 5"
   ]
  },
  {
   "cell_type": "code",
   "execution_count": 11,
   "id": "f509542b-6b02-4443-84d8-0a51140ac93f",
   "metadata": {
    "tags": []
   },
   "outputs": [],
   "source": [
    "Q, K, V = torch.randn(T, D), torch.randn(T, D), torch.randn(T, D)"
   ]
  },
  {
   "cell_type": "markdown",
   "id": "762e3c96-86a1-4c99-acb6-eb59a08008d8",
   "metadata": {},
   "source": [
    "## Transformer Attention 向量版本\n",
    "\n",
    "$$\n",
    "Attn(Q,K,V)_t = \\frac{\\sum_{i=0}^Te^{q^T_tk_i}v_i}{\\sum_{i=0}^Te^{q^T_tk_i}}\n",
    "$$"
   ]
  },
  {
   "cell_type": "code",
   "execution_count": 12,
   "id": "8b2f5619-ec53-474f-8652-2114284696ab",
   "metadata": {
    "tags": []
   },
   "outputs": [
    {
     "name": "stdout",
     "output_type": "stream",
     "text": [
      "tensor([[-0.6032,  1.6079, -0.1444,  0.7193,  0.2736],\n",
      "        [-0.3621, -1.4309, -1.9961, -1.0469, -0.0746],\n",
      "        [-0.3389, -1.3303, -1.6987, -0.9762, -0.0429],\n",
      "        [-0.3587, -1.2902, -1.5771, -0.9975, -0.0362]])\n"
     ]
    }
   ],
   "source": [
    "O = torch.zeros(T, D)\n",
    "for t in range(T):\n",
    "    Z = 0\n",
    "    ot = torch.zeros(D)\n",
    "    for i in range(T):\n",
    "        attn = Q[t] @ K[i]\n",
    "        attn = attn.exp()\n",
    "        ot += attn * V[i]\n",
    "        Z += attn\n",
    "    ot = ot / Z\n",
    "    O[t] = ot\n",
    "print(O)"
   ]
  },
  {
   "cell_type": "code",
   "execution_count": 13,
   "id": "9afed4bf-0333-460b-afb0-6711ae975cd2",
   "metadata": {
    "tags": []
   },
   "outputs": [
    {
     "data": {
      "text/plain": [
       "tensor([[-0.6032,  1.6079, -0.1444,  0.7193,  0.2736],\n",
       "        [-0.3621, -1.4309, -1.9961, -1.0469, -0.0746],\n",
       "        [-0.3389, -1.3303, -1.6987, -0.9762, -0.0429],\n",
       "        [-0.3587, -1.2902, -1.5771, -0.9975, -0.0362]])"
      ]
     },
     "execution_count": 13,
     "metadata": {},
     "output_type": "execute_result"
    }
   ],
   "source": [
    "# 矩阵版本\n",
    "res = torch.softmax(Q @ K.t(), dim=-1)\n",
    "res = res @ V\n",
    "res"
   ]
  },
  {
   "cell_type": "markdown",
   "id": "f320645b-9e31-42e7-9235-4830a7e2467f",
   "metadata": {
    "tags": []
   },
   "source": [
    "## AFT Attention\n",
    "\n",
    "$$\n",
    "Attn^+(W, K, V)_t = \\frac{\\sum_{i=0}^Te^{w_{t,i}+k_i}v_i}{\\sum_{i=0}^Te^{w_{t,i}+k_i}}\n",
    "$$"
   ]
  },
  {
   "cell_type": "code",
   "execution_count": 15,
   "id": "c1d8129c-4487-4ddc-a493-64b010ee92a8",
   "metadata": {
    "tags": []
   },
   "outputs": [
    {
     "data": {
      "text/plain": [
       "tensor([[-0.3950, -0.3049, -0.1834, -1.0573,  0.0850],\n",
       "        [-0.3483, -1.0490, -1.2270, -0.7161,  0.0475],\n",
       "        [-0.3572, -0.5709, -0.7710, -0.6966,  0.1757],\n",
       "        [-0.3642, -1.1184, -1.4454, -1.0483,  0.0406]])"
      ]
     },
     "execution_count": 15,
     "metadata": {},
     "output_type": "execute_result"
    }
   ],
   "source": [
    "O_aft = torch.zeros(T, D)\n",
    "W = torch.randn(T, T)\n",
    "\n",
    "for t in range(T):\n",
    "    Z = 0\n",
    "    ot = torch.zeros(D)\n",
    "    for i in range(T):\n",
    "        attn = W[t][i] + K[i]\n",
    "        attn = attn.exp()\n",
    "        ot += attn * V[i]\n",
    "        Z += attn\n",
    "    ot = ot / Z\n",
    "    O[t] = ot\n",
    "O"
   ]
  },
  {
   "cell_type": "markdown",
   "id": "e525b7b0-203d-4e0f-8bd3-a6dad1401bc0",
   "metadata": {},
   "source": [
    "## RWKV Attention\n",
    "\n",
    "$$\n",
    "wkv_t = \\frac{\\sum_{i=1}^{t-1}e^{-(t-1-i)w+k_i}v_i+e^{u+k_t}\\odot v_t}{\\sum_{i=1}^{t-1}e^{-(t-1-i)w+k_i}v_i+e^{u+k_t}}\n",
    "$$"
   ]
  },
  {
   "cell_type": "code",
   "execution_count": 21,
   "id": "8025e8d2-3f7b-4cda-a736-d8f7b493f52a",
   "metadata": {
    "tags": []
   },
   "outputs": [],
   "source": [
    "W_rwkv = torch.randn(D)\n",
    "U_rwkv = torch.randn(D) "
   ]
  },
  {
   "cell_type": "code",
   "execution_count": 24,
   "id": "2859e1e5-5e15-4b71-8bbf-5b090e612ede",
   "metadata": {
    "tags": []
   },
   "outputs": [
    {
     "data": {
      "text/plain": [
       "tensor([[-1.6146,  1.0547,  1.1158, -1.6478,  0.0832],\n",
       "        [-0.7832, -0.4170,  1.0957, -0.8807,  0.1356],\n",
       "        [-0.3561, -1.3810, -0.2674, -1.2018, -0.0232],\n",
       "        [-0.3593,  0.3675, -1.1717, -1.2065,  0.1966]])"
      ]
     },
     "execution_count": 24,
     "metadata": {},
     "output_type": "execute_result"
    }
   ],
   "source": [
    "O_rwkv = torch.zeros(T, D)\n",
    "for t in range(T):\n",
    "    Z_rwkv = 0\n",
    "    o_rwkv = torch.zeros(D)\n",
    "    # 计算前 t-1个token的attn结果，其中不同位置会 有不同的W的取值，分别是 U，0, -W, -2W, ...\n",
    "    for i in range(t):\n",
    "        attn_rwkv = (-(t-1-i) * W_rwkv + K[i]).exp()\n",
    "        o_rwkv += attn_rwkv * V[i]\n",
    "        Z_rwkv += attn_rwkv\n",
    "    # t这个位置使用U作为W权重\n",
    "    div_x = o_rwkv + (U_rwkv + K[t]).exp() * V[t]\n",
    "    div_y = Z_rwkv + (U_rwkv  + K[t]).exp()\n",
    "    O_rwkv[t] = div_x / div_y\n",
    "O_rwkv    \n",
    "# 这里的计算需要依赖于前 t-1个token的值，但是除了位置向量其它的值都不会因为位置的变化而变化，所以是可以改变计算的形式的"
   ]
  },
  {
   "cell_type": "markdown",
   "id": "e7d4cb4e-1746-454b-8cda-fe027e62aca9",
   "metadata": {},
   "source": [
    "## RWKV 的RNN形式\n",
    "\n",
    "$$\n",
    "wkv_t = \\frac{a_{t-1}+e^{u+k_t}\\odot v_t}{b_{t-1}+e^{u+k_t}}\n",
    "$$\n",
    "\n",
    "其中：\n",
    "$$\n",
    "a_{t} = e^{-w}\\odot a_{t-1} + e^{k_t}\\odot v_t\n",
    "$$\n",
    "\n",
    "$$\n",
    "b_{t} = e^{-w}\\odot b_{t-1} + e^{k_t}\n",
    "$$"
   ]
  },
  {
   "cell_type": "code",
   "execution_count": 26,
   "id": "f5016528-fe73-4a1e-91cc-ad56852fb22b",
   "metadata": {
    "tags": []
   },
   "outputs": [
    {
     "data": {
      "text/plain": [
       "tensor([[-1.6146,  1.0547,  1.1158, -1.6478,  0.0832],\n",
       "        [-0.7832, -0.4170,  1.0957, -0.8807,  0.1356],\n",
       "        [-0.2076, -1.7188,  2.5090, -0.6300, -0.1688],\n",
       "        [-0.5078,  0.6518,  0.1357, -1.6221,  0.1939]])"
      ]
     },
     "execution_count": 26,
     "metadata": {},
     "output_type": "execute_result"
    }
   ],
   "source": [
    "O_rwkv = torch.zeros(T, D)\n",
    "O_rwkv[0] = V[0]\n",
    "\n",
    "a = K[0].exp() * V[0]\n",
    "b = K[0].exp()\n",
    "\n",
    "for t in range(1, T):\n",
    "    O_rwkv[t] = (a+(U_rwkv + K[t]).exp()*V[t]) / (b+(U_rwkv + K[t]).exp())\n",
    "    a = -W_rwkv.exp() * a + K[t].exp() * V[t]\n",
    "    b = -W_rwkv.exp() * b + K[t].exp()\n",
    "O_rwkv # 可以看到递归形式的结果和上面的一致"
   ]
  },
  {
   "cell_type": "markdown",
   "id": "92644912-4884-4154-a47e-79064e90165a",
   "metadata": {},
   "source": [
    "## RWKV 数值稳定版本\n",
    "\n",
    "fp16 和 bf16 中exp(k)很容易溢出"
   ]
  },
  {
   "cell_type": "code",
   "execution_count": 27,
   "id": "ec8d2571-1c41-47bc-bdab-9cdb3befa266",
   "metadata": {
    "tags": []
   },
   "outputs": [
    {
     "data": {
      "text/plain": [
       "tensor([[-1.6146,  1.0547,  1.1158, -1.6478,  0.0832],\n",
       "        [-0.7832, -0.4170,  1.0957, -0.8807,  0.1356],\n",
       "        [-0.3561, -1.3810, -0.2674, -1.2018, -0.0232],\n",
       "        [-0.3593,  0.3675, -1.1717, -1.2065,  0.1966]])"
      ]
     },
     "execution_count": 27,
     "metadata": {},
     "output_type": "execute_result"
    }
   ],
   "source": [
    "O_rwkv = torch.zeros(T, D)\n",
    "O_rwkv[0] = V[0]\n",
    "\n",
    "pp = K[0]\n",
    "aa = V[0]\n",
    "bb = 1\n",
    "\n",
    "for t in range(1, T):\n",
    "    ww = U_rwkv + K[t]\n",
    "    \n",
    "    qq = torch.max(ww, pp) # 取ww和pp的最大值\n",
    "    # 都减去最大值防止溢出，相对大小没有改变\n",
    "    e1 = torch.exp(pp - qq)\n",
    "    e2 = torch.exp(ww - qq)\n",
    "    \n",
    "    a = e1 * aa + e2 * V[t]\n",
    "    b = e1 * bb + e2\n",
    "    O_rwkv[t] = a / b\n",
    "    \n",
    "    # 缩放cache值 a 和 b\n",
    "    ww = pp - W_rwkv \n",
    "    qq = torch.maximum(ww, K[t])\n",
    "    e1 = torch.exp(ww - qq)\n",
    "    e2 = torch.exp(K[t] - qq)\n",
    "    aa = e1 * aa + e2 * V[t]\n",
    "    bb = e1 * bb + e2\n",
    "    pp = qq\n",
    "O_rwkv "
   ]
  },
  {
   "cell_type": "code",
   "execution_count": null,
   "id": "ec357e37-308f-4a02-b272-68ddd8af5be6",
   "metadata": {},
   "outputs": [],
   "source": []
  }
 ],
 "metadata": {
  "kernelspec": {
   "display_name": "Python 3 (ipykernel)",
   "language": "python",
   "name": "python3"
  },
  "language_info": {
   "codemirror_mode": {
    "name": "ipython",
    "version": 3
   },
   "file_extension": ".py",
   "mimetype": "text/x-python",
   "name": "python",
   "nbconvert_exporter": "python",
   "pygments_lexer": "ipython3",
   "version": "3.10.9"
  }
 },
 "nbformat": 4,
 "nbformat_minor": 5
}
