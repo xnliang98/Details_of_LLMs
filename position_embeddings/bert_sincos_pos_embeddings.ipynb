{
 "cells": [
  {
   "cell_type": "code",
   "execution_count": 1,
   "id": "c8b521ac-2f38-4bb7-9b06-f2ebbe0236f7",
   "metadata": {
    "tags": []
   },
   "outputs": [],
   "source": [
    "import torch\n",
    "from torch import nn\n",
    "import numpy as np"
   ]
  },
  {
   "cell_type": "markdown",
   "id": "7e43c5b4-8151-474f-9ba8-f9ae58f4b934",
   "metadata": {},
   "source": [
    "# 1 basics\n",
    "\n",
    "$$\n",
    "PE(t, 2i) = \\sin(\\frac{t}{10000^{2i/d}})\n",
    "$$\n",
    "\n",
    "$$\n",
    "PE(t, 2i+1) = \\cos(\\frac{t}{10000^{2i/d}})\n",
    "$$"
   ]
  },
  {
   "cell_type": "code",
   "execution_count": 2,
   "id": "0dccd42e-c596-469f-a911-ed524f2d0393",
   "metadata": {
    "tags": []
   },
   "outputs": [],
   "source": [
    "max_sequence_length = 10\n",
    "d_model = 6"
   ]
  },
  {
   "cell_type": "code",
   "execution_count": 3,
   "id": "be8e9239-7187-493d-8d74-b8ef347c5b84",
   "metadata": {
    "tags": []
   },
   "outputs": [
    {
     "name": "stdout",
     "output_type": "stream",
     "text": [
      "tensor([0., 2., 4.])\n",
      "tensor([1., 3., 5.])\n"
     ]
    }
   ],
   "source": [
    "even_i = torch.arange(0, d_model, 2).float()\n",
    "print(even_i)\n",
    "odd_i = torch.arange(1, d_model, 2).float()\n",
    "print(odd_i)"
   ]
  },
  {
   "cell_type": "code",
   "execution_count": 4,
   "id": "6607ca9d-9b3d-4c9b-bdf3-fd9e33080cec",
   "metadata": {
    "tags": []
   },
   "outputs": [
    {
     "data": {
      "text/plain": [
       "tensor([[0.],\n",
       "        [1.],\n",
       "        [2.],\n",
       "        [3.],\n",
       "        [4.],\n",
       "        [5.],\n",
       "        [6.],\n",
       "        [7.],\n",
       "        [8.],\n",
       "        [9.]])"
      ]
     },
     "execution_count": 4,
     "metadata": {},
     "output_type": "execute_result"
    }
   ],
   "source": [
    "position = torch.arange(max_sequence_length, dtype=torch.float32).reshape(-1,1)\n",
    "position"
   ]
  },
  {
   "cell_type": "code",
   "execution_count": 5,
   "id": "d838df5b-23c7-4d77-8525-89a506bbf404",
   "metadata": {
    "tags": []
   },
   "outputs": [
    {
     "data": {
      "text/plain": [
       "tensor([[ 0.0000,  0.0000,  0.0000],\n",
       "        [ 0.8415,  0.0464,  0.0022],\n",
       "        [ 0.9093,  0.0927,  0.0043],\n",
       "        [ 0.1411,  0.1388,  0.0065],\n",
       "        [-0.7568,  0.1846,  0.0086],\n",
       "        [-0.9589,  0.2300,  0.0108],\n",
       "        [-0.2794,  0.2749,  0.0129],\n",
       "        [ 0.6570,  0.3192,  0.0151],\n",
       "        [ 0.9894,  0.3629,  0.0172],\n",
       "        [ 0.4121,  0.4057,  0.0194]])"
      ]
     },
     "execution_count": 5,
     "metadata": {},
     "output_type": "execute_result"
    }
   ],
   "source": [
    "# 偶数列\n",
    "even_pe = torch.sin(position / torch.pow(10000, even_i / d_model))\n",
    "even_pe"
   ]
  },
  {
   "cell_type": "code",
   "execution_count": 6,
   "id": "68ff7fd2-0e6c-47ae-aa4c-ea07acb93c80",
   "metadata": {
    "tags": []
   },
   "outputs": [
    {
     "data": {
      "text/plain": [
       "tensor([[ 1.0000,  1.0000,  1.0000],\n",
       "        [ 0.5403,  0.9989,  1.0000],\n",
       "        [-0.4161,  0.9957,  1.0000],\n",
       "        [-0.9900,  0.9903,  1.0000],\n",
       "        [-0.6536,  0.9828,  1.0000],\n",
       "        [ 0.2837,  0.9732,  0.9999],\n",
       "        [ 0.9602,  0.9615,  0.9999],\n",
       "        [ 0.7539,  0.9477,  0.9999],\n",
       "        [-0.1455,  0.9318,  0.9999],\n",
       "        [-0.9111,  0.9140,  0.9998]])"
      ]
     },
     "execution_count": 6,
     "metadata": {},
     "output_type": "execute_result"
    }
   ],
   "source": [
    "# 奇数列\n",
    "odd_pe = torch.cos(position / torch.pow(10000, (odd_i-1) / d_model))\n",
    "odd_pe"
   ]
  },
  {
   "cell_type": "code",
   "execution_count": 7,
   "id": "8543f13a-763a-4990-8f92-5c26480b25f8",
   "metadata": {
    "tags": []
   },
   "outputs": [
    {
     "data": {
      "text/plain": [
       "tensor([[[ 0.0000,  1.0000],\n",
       "         [ 0.0000,  1.0000],\n",
       "         [ 0.0000,  1.0000]],\n",
       "\n",
       "        [[ 0.8415,  0.5403],\n",
       "         [ 0.0464,  0.9989],\n",
       "         [ 0.0022,  1.0000]],\n",
       "\n",
       "        [[ 0.9093, -0.4161],\n",
       "         [ 0.0927,  0.9957],\n",
       "         [ 0.0043,  1.0000]],\n",
       "\n",
       "        [[ 0.1411, -0.9900],\n",
       "         [ 0.1388,  0.9903],\n",
       "         [ 0.0065,  1.0000]],\n",
       "\n",
       "        [[-0.7568, -0.6536],\n",
       "         [ 0.1846,  0.9828],\n",
       "         [ 0.0086,  1.0000]],\n",
       "\n",
       "        [[-0.9589,  0.2837],\n",
       "         [ 0.2300,  0.9732],\n",
       "         [ 0.0108,  0.9999]],\n",
       "\n",
       "        [[-0.2794,  0.9602],\n",
       "         [ 0.2749,  0.9615],\n",
       "         [ 0.0129,  0.9999]],\n",
       "\n",
       "        [[ 0.6570,  0.7539],\n",
       "         [ 0.3192,  0.9477],\n",
       "         [ 0.0151,  0.9999]],\n",
       "\n",
       "        [[ 0.9894, -0.1455],\n",
       "         [ 0.3629,  0.9318],\n",
       "         [ 0.0172,  0.9999]],\n",
       "\n",
       "        [[ 0.4121, -0.9111],\n",
       "         [ 0.4057,  0.9140],\n",
       "         [ 0.0194,  0.9998]]])"
      ]
     },
     "execution_count": 7,
     "metadata": {},
     "output_type": "execute_result"
    }
   ],
   "source": [
    "stacked = torch.stack([even_pe, odd_pe], dim = 2)\n",
    "stacked # 10 x 3 x 2 这里多了一个维度，多出来的维度是逐个元素拼接出来的所以是 10,3,2"
   ]
  },
  {
   "cell_type": "code",
   "execution_count": 8,
   "id": "dd9331a5-3407-46af-a9a9-3ea8b421eb5b",
   "metadata": {
    "tags": []
   },
   "outputs": [
    {
     "data": {
      "text/plain": [
       "tensor([[ 0.0000,  1.0000,  0.0000,  1.0000,  0.0000,  1.0000],\n",
       "        [ 0.8415,  0.5403,  0.0464,  0.9989,  0.0022,  1.0000],\n",
       "        [ 0.9093, -0.4161,  0.0927,  0.9957,  0.0043,  1.0000],\n",
       "        [ 0.1411, -0.9900,  0.1388,  0.9903,  0.0065,  1.0000],\n",
       "        [-0.7568, -0.6536,  0.1846,  0.9828,  0.0086,  1.0000],\n",
       "        [-0.9589,  0.2837,  0.2300,  0.9732,  0.0108,  0.9999],\n",
       "        [-0.2794,  0.9602,  0.2749,  0.9615,  0.0129,  0.9999],\n",
       "        [ 0.6570,  0.7539,  0.3192,  0.9477,  0.0151,  0.9999],\n",
       "        [ 0.9894, -0.1455,  0.3629,  0.9318,  0.0172,  0.9999],\n",
       "        [ 0.4121, -0.9111,  0.4057,  0.9140,  0.0194,  0.9998]])"
      ]
     },
     "execution_count": 8,
     "metadata": {},
     "output_type": "execute_result"
    }
   ],
   "source": [
    "pe = torch.flatten(stacked, start_dim=1, end_dim=2)\n",
    "pe # 10 x 6"
   ]
  },
  {
   "cell_type": "code",
   "execution_count": 9,
   "id": "5fb25357-1a26-48b3-84df-586678e47a70",
   "metadata": {
    "tags": []
   },
   "outputs": [
    {
     "data": {
      "text/plain": [
       "\u001b[0;31mDocstring:\u001b[0m\n",
       "flatten(input, start_dim=0, end_dim=-1) -> Tensor\n",
       "\n",
       "Flattens :attr:`input` by reshaping it into a one-dimensional tensor. If :attr:`start_dim` or :attr:`end_dim`\n",
       "are passed, only dimensions starting with :attr:`start_dim` and ending with :attr:`end_dim` are flattened.\n",
       "The order of elements in :attr:`input` is unchanged.\n",
       "\n",
       "Unlike NumPy's flatten, which always copies input's data, this function may return the original object, a view,\n",
       "or copy. If no dimensions are flattened, then the original object :attr:`input` is returned. Otherwise, if input can\n",
       "be viewed as the flattened shape, then that view is returned. Finally, only if the input cannot be viewed as the\n",
       "flattened shape is input's data copied. See :meth:`torch.Tensor.view` for details on when a view will be returned.\n",
       "\n",
       ".. note::\n",
       "    Flattening a zero-dimensional tensor will return a one-dimensional view.\n",
       "\n",
       "Args:\n",
       "    input (Tensor): the input tensor.\n",
       "    start_dim (int): the first dim to flatten\n",
       "    end_dim (int): the last dim to flatten\n",
       "\n",
       "Example::\n",
       "\n",
       "    >>> t = torch.tensor([[[1, 2],\n",
       "    ...                    [3, 4]],\n",
       "    ...                   [[5, 6],\n",
       "    ...                    [7, 8]]])\n",
       "    >>> torch.flatten(t)\n",
       "    tensor([1, 2, 3, 4, 5, 6, 7, 8])\n",
       "    >>> torch.flatten(t, start_dim=1)\n",
       "    tensor([[1, 2, 3, 4],\n",
       "            [5, 6, 7, 8]])\n",
       "\u001b[0;31mType:\u001b[0m      builtin_function_or_method"
      ]
     },
     "metadata": {},
     "output_type": "display_data"
    }
   ],
   "source": [
    "torch.flatten?"
   ]
  },
  {
   "cell_type": "code",
   "execution_count": 10,
   "id": "52dc436c-b250-4895-b9a1-60bc5570a90c",
   "metadata": {
    "tags": []
   },
   "outputs": [],
   "source": [
    "class SinPositionEncodding(nn.Module):\n",
    "    def __init__(self, max_sequence_length, d_model, base=10000):\n",
    "        super().__init__()\n",
    "        \n",
    "        self.max_sequence_length = max_sequence_length\n",
    "        self.d_model = d_model\n",
    "        self.base = base\n",
    "        \n",
    "    def forward(self):\n",
    "        even_i = torch.arange(0, self.d_model, 2).float()\n",
    "        # odd_i = torch.arange(0, self.d_model, 2).float()\n",
    "        position = torch.arange(self.max_sequence_length, dtype=torch.float32).reshape(-1, 1)\n",
    "        even_pe = torch.sin(position / torch.pow(self.base, even_i / self.d_model))\n",
    "        odd_pe = torch.cos(position / torch.pow(self.base, even_i / self.d_model))\n",
    "        stacked = torch.stack([even_pe, odd_pe], dim=2)\n",
    "        return torch.flatten(stacked, start_dim=1)"
   ]
  },
  {
   "cell_type": "code",
   "execution_count": 11,
   "id": "14eefece-d8a3-4476-a62b-26d7aeb141e5",
   "metadata": {
    "tags": []
   },
   "outputs": [
    {
     "data": {
      "text/plain": [
       "tensor([[ 0.0000,  1.0000,  0.0000,  1.0000,  0.0000,  1.0000],\n",
       "        [ 0.8415,  0.5403,  0.0464,  0.9989,  0.0022,  1.0000],\n",
       "        [ 0.9093, -0.4161,  0.0927,  0.9957,  0.0043,  1.0000],\n",
       "        [ 0.1411, -0.9900,  0.1388,  0.9903,  0.0065,  1.0000],\n",
       "        [-0.7568, -0.6536,  0.1846,  0.9828,  0.0086,  1.0000],\n",
       "        [-0.9589,  0.2837,  0.2300,  0.9732,  0.0108,  0.9999],\n",
       "        [-0.2794,  0.9602,  0.2749,  0.9615,  0.0129,  0.9999],\n",
       "        [ 0.6570,  0.7539,  0.3192,  0.9477,  0.0151,  0.9999],\n",
       "        [ 0.9894, -0.1455,  0.3629,  0.9318,  0.0172,  0.9999],\n",
       "        [ 0.4121, -0.9111,  0.4057,  0.9140,  0.0194,  0.9998]])"
      ]
     },
     "execution_count": 11,
     "metadata": {},
     "output_type": "execute_result"
    }
   ],
   "source": [
    "spe = SinPositionEncodding(10, 6)\n",
    "spe()"
   ]
  },
  {
   "cell_type": "markdown",
   "id": "c62807d1-e5c3-4262-9793-db61baa989ae",
   "metadata": {},
   "source": [
    "## 相对位置关系"
   ]
  },
  {
   "cell_type": "code",
   "execution_count": 12,
   "id": "e20fdc89-d8b9-4fa5-8584-e95f42852caf",
   "metadata": {
    "tags": []
   },
   "outputs": [],
   "source": [
    "import os\n",
    "import re\n",
    "import numpy as np\n",
    "import matplotlib.pyplot as plt\n",
    "import math\n",
    "import torch\n",
    "from tqdm.auto import tqdm"
   ]
  },
  {
   "cell_type": "code",
   "execution_count": 13,
   "id": "81ea2312-eeb6-4e16-a1cf-399d2079afed",
   "metadata": {
    "tags": []
   },
   "outputs": [],
   "source": [
    "def get_sinusoidal_embedding(n_position, d_hid, padding_idx=None):\n",
    "    ''' Generate sinusoidal embeddings for a given number of positions and hidden size\n",
    "    '''\n",
    "    # Compute the positional encodings once in log space\n",
    "    pe = torch.zeros(n_position, d_hid)\n",
    "    position = torch.arange(0, n_position).unsqueeze(1).float()\n",
    "    div_term = torch.exp(torch.arange(0, d_hid, 2).float() * -(math.log(10000.0) / d_hid))\n",
    "    pe[:, 0::2] = torch.sin(position * div_term)\n",
    "    pe[:, 1::2] = torch.cos(position * div_term)\n",
    "    if padding_idx is not None:\n",
    "        # Zero out the embedding vector for padding symbol\n",
    "        pe[padding_idx] = 0.\n",
    "    return pe.numpy()"
   ]
  },
  {
   "cell_type": "code",
   "execution_count": 14,
   "id": "bf997848-aae2-4500-b794-fa7ecebd32cc",
   "metadata": {
    "tags": []
   },
   "outputs": [
    {
     "name": "stdout",
     "output_type": "stream",
     "text": [
      "(1024, 128)\n"
     ]
    }
   ],
   "source": [
    "n_position = 1024\n",
    "d_hid = 128\n",
    "padding_idx = 0\n",
    "pe = get_sinusoidal_embedding(n_position, d_hid, padding_idx)\n",
    "print(pe.shape)  # Output: torch.Size([100, 128])"
   ]
  },
  {
   "cell_type": "code",
   "execution_count": 15,
   "id": "bca54546-e862-448e-b68a-0a9fd77d2a7e",
   "metadata": {
    "tags": []
   },
   "outputs": [
    {
     "data": {
      "application/vnd.jupyter.widget-view+json": {
       "model_id": "b42f31fe403d4299b333aea424213089",
       "version_major": 2,
       "version_minor": 0
      },
      "text/plain": [
       "  0%|          | 0/1024 [00:00<?, ?it/s]"
      ]
     },
     "metadata": {},
     "output_type": "display_data"
    }
   ],
   "source": [
    "# torch.dot(pe[2], pe[12]).item()\n",
    "Length = n_position\n",
    "Hidden = d_hid\n",
    "n = list(range(Length))\n",
    "m = list(range(Length))\n",
    "\n",
    "y_vals = [0] * (Length*2)\n",
    "for i in tqdm(n):\n",
    "    for j in m:\n",
    "        # x_vals.append(i-j)\n",
    "        y_vals[i-j+Length] = np.dot(pe[i], pe[j])"
   ]
  },
  {
   "cell_type": "code",
   "execution_count": 16,
   "id": "ba7b4dbb-69cf-4531-ae82-5311b715aaa9",
   "metadata": {
    "tags": []
   },
   "outputs": [],
   "source": [
    "x_vals = np.array(list(range(Length*2))) - Length\n",
    "compressed_y_vals = np.array(y_vals) - Hidden/2\n",
    "compressed_y_vals = compressed_y_vals / (2**4)"
   ]
  },
  {
   "cell_type": "code",
   "execution_count": 17,
   "id": "5c07d12d-3022-47cc-96aa-8f8c0bbd3670",
   "metadata": {
    "tags": []
   },
   "outputs": [
    {
     "data": {
      "image/png": "[encoded data removed]",
      "text/plain": [
       "<Figure size 640x480 with 1 Axes>"
      ]
     },
     "metadata": {},
     "output_type": "display_data"
    }
   ],
   "source": [
    "plt.scatter(x_vals, compressed_y_vals, s=0.5)\n",
    "plt.show()"
   ]
  },
  {
   "cell_type": "code",
   "execution_count": null,
   "id": "c7b4a46e-6f18-4879-93c7-79582d070570",
   "metadata": {},
   "outputs": [],
   "source": []
  }
 ],
 "metadata": {
  "kernelspec": {
   "display_name": "Python 3 (ipykernel)",
   "language": "python",
   "name": "python3"
  },
  "language_info": {
   "codemirror_mode": {
    "name": "ipython",
    "version": 3
   },
   "file_extension": ".py",
   "mimetype": "text/x-python",
   "name": "python",
   "nbconvert_exporter": "python",
   "pygments_lexer": "ipython3",
   "version": "3.10.9"
  }
 },
 "nbformat": 4,
 "nbformat_minor": 5
}
